{
 "cells": [
  {
   "cell_type": "code",
   "execution_count": 1,
   "id": "1ac7f88c",
   "metadata": {},
   "outputs": [
    {
     "name": "stdout",
     "output_type": "stream",
     "text": [
      "3\n",
      "4\n",
      "5\n",
      "6\n"
     ]
    }
   ],
   "source": [
    "for i in range(3,7):\n",
    "    print (i)\n"
   ]
  },
  {
   "cell_type": "code",
   "execution_count": 9,
   "id": "d87450f2",
   "metadata": {},
   "outputs": [
    {
     "name": "stdout",
     "output_type": "stream",
     "text": [
      "j\n",
      "a\n",
      "m\n",
      "s\n",
      "h\n",
      "e\n",
      "r\n",
      " \n",
      " \n",
      "s\n",
      "h\n",
      "i\n",
      "h\n",
      "a\n",
      "a\n",
      "b\n"
     ]
    }
   ],
   "source": [
    "a=list('jamsher''  ''shihaab')\n",
    "for i in a :\n",
    "    print (i)"
   ]
  },
  {
   "cell_type": "code",
   "execution_count": 12,
   "id": "1f81dc9a",
   "metadata": {},
   "outputs": [
    {
     "name": "stdout",
     "output_type": "stream",
     "text": [
      "1\n",
      "2\n",
      "3\n",
      "4\n",
      "5\n",
      "15\n"
     ]
    }
   ],
   "source": [
    "num=list(range(1,6))\n",
    "total=0\n",
    "for i in num:\n",
    "    print(i)\n",
    "    total=total+i\n",
    "print (total)"
   ]
  },
  {
   "cell_type": "code",
   "execution_count": 25,
   "id": "3938d2ba",
   "metadata": {},
   "outputs": [
    {
     "name": "stdout",
     "output_type": "stream",
     "text": [
      "nter the num:78\n",
      "78 x 1 = 78\n",
      "78 x 2 = 156\n",
      "78 x 3 = 234\n",
      "78 x 4 = 312\n",
      "78 x 5 = 390\n",
      "78 x 6 = 468\n",
      "78 x 7 = 546\n",
      "78 x 8 = 624\n",
      "78 x 9 = 702\n",
      "78 x 10 = 780\n"
     ]
    }
   ],
   "source": [
    "num=int(input(\"nter the num:\"))\n",
    "for i in range(1,11):\n",
    "    product=num*i\n",
    "    print(num, \"x\", i, \"=\",product)"
   ]
  },
  {
   "cell_type": "code",
   "execution_count": 33,
   "id": "9aa1942f",
   "metadata": {},
   "outputs": [
    {
     "name": "stdout",
     "output_type": "stream",
     "text": [
      "499501\n"
     ]
    }
   ],
   "source": [
    "sum=0\n",
    "for i in range(1,1000):\n",
    "\n",
    "    sum=sum+i\n",
    "print(sum)\n",
    "    "
   ]
  },
  {
   "cell_type": "code",
   "execution_count": 36,
   "id": "bf84ecb6",
   "metadata": {},
   "outputs": [
    {
     "name": "stdout",
     "output_type": "stream",
     "text": [
      "[3, 5, 6, 8, 4, 6, 8, 9, 11, 7]\n"
     ]
    }
   ],
   "source": [
    "my_list = [3, 5, 6, 8, 4]  \n",
    "for iter_var in range( len( my_list ) ):  \n",
    "    my_list.append(my_list[iter_var] + 3)  \n",
    "print( my_list )  "
   ]
  },
  {
   "cell_type": "code",
   "execution_count": 43,
   "id": "93295e91",
   "metadata": {},
   "outputs": [
    {
     "name": "stdout",
     "output_type": "stream",
     "text": [
      "1 2 3 4 5 6 7 8 9 10 \n",
      "2 4 6 8 10 12 14 16 18 20 \n",
      "3 6 9 12 15 18 21 24 27 30 \n",
      "4 8 12 16 20 24 28 32 36 40 \n"
     ]
    }
   ],
   "source": [
    "\n",
    "for i in range(1,5):\n",
    "    # nested loop\n",
    "    # to iterate from 1 to 10\n",
    "    for j in range(1, 11):\n",
    "        # print multiplication\n",
    "        print(i *j, end=' ')\n",
    "    print()"
   ]
  },
  {
   "cell_type": "code",
   "execution_count": 49,
   "id": "ff267099",
   "metadata": {},
   "outputs": [
    {
     "name": "stdout",
     "output_type": "stream",
     "text": [
      "* \n",
      "* * \n",
      "* * * \n",
      "* * * * \n",
      "* * * * * \n"
     ]
    }
   ],
   "source": [
    "row=5\n",
    "for i in range (1,row+1):\n",
    "    for j in range(1,i+1):\n",
    "        print(\"*\",end =\" \")\n",
    "    print()"
   ]
  },
  {
   "cell_type": "code",
   "execution_count": 53,
   "id": "5460c99e",
   "metadata": {},
   "outputs": [
    {
     "name": "stdout",
     "output_type": "stream",
     "text": [
      "enter the num :6\n",
      "6 x 10 = 60\n",
      "6 x 9 = 54\n",
      "6 x 8 = 48\n",
      "6 x 7 = 42\n",
      "6 x 6 = 36\n",
      "6 x 5 = 30\n",
      "6 x 4 = 24\n",
      "6 x 3 = 18\n",
      "6 x 2 = 12\n",
      "6 x 1 = 6\n"
     ]
    }
   ],
   "source": [
    "num=int(input(\"enter the num :\"))\n",
    "count=10\n",
    "while count>=1:\n",
    "    product=num*count\n",
    "    print (num,\"x\",count ,\"=\",product)\n",
    "    count =count-1"
   ]
  },
  {
   "cell_type": "code",
   "execution_count": 4,
   "id": "d7a08675",
   "metadata": {},
   "outputs": [
    {
     "name": "stdout",
     "output_type": "stream",
     "text": [
      "10\n",
      "9\n",
      "8\n",
      "7\n",
      "6\n",
      "5\n",
      "4\n",
      "3\n",
      "2\n",
      "1\n",
      "masha allah\n"
     ]
    }
   ],
   "source": [
    "import time\n",
    "for sec in range(10,0,-1):\n",
    "    print (sec)\n",
    "    time.sleep(2)\n",
    "print(\"masha allah\")\n",
    "\n"
   ]
  },
  {
   "cell_type": "code",
   "execution_count": null,
   "id": "a4d0c726",
   "metadata": {},
   "outputs": [
    {
     "name": "stdout",
     "output_type": "stream",
     "text": [
      "enter ur name\n",
      "enter ur name\n",
      "enter ur name\n",
      "enter ur namejm\n",
      "enter ur namejam\n"
     ]
    }
   ],
   "source": [
    "while True:\n",
    "    name =input(\"enter ur name\")\n",
    "    if name:=\"\":\n",
    "        break"
   ]
  },
  {
   "cell_type": "code",
   "execution_count": null,
   "id": "e7410ee9",
   "metadata": {},
   "outputs": [],
   "source": []
  }
 ],
 "metadata": {
  "kernelspec": {
   "display_name": "Python 3 (ipykernel)",
   "language": "python",
   "name": "python3"
  },
  "language_info": {
   "codemirror_mode": {
    "name": "ipython",
    "version": 3
   },
   "file_extension": ".py",
   "mimetype": "text/x-python",
   "name": "python",
   "nbconvert_exporter": "python",
   "pygments_lexer": "ipython3",
   "version": "3.9.12"
  }
 },
 "nbformat": 4,
 "nbformat_minor": 5
}
